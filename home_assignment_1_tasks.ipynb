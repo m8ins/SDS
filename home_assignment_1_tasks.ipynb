{
 "cells": [
  {
   "cell_type": "markdown",
   "metadata": {},
   "source": [
    "# First home assignment Social Data Science"
   ]
  },
  {
   "cell_type": "raw",
   "metadata": {},
   "source": [
    "Submit your solution by email to submission@cssh.rwth-aachen.de until 23.59pm on Wednesday, November 28th!\n",
    "Use \"[SDS] Submission Home Assignment 1\" as the email subject.\n",
    "\n",
    "You can (and should!) submit solutions in teams of up to three members.\n",
    "Please denote all members of the team with their student id and full name in the notebook as well as in the email body. Put all team members in email CC when submitting. Please submit only one email per team.\n",
    "\n",
    "Cite ALL your sources for coding this home assignment. In case of plagiarism (copying solutions from other teams or from the internet) ALL team members will be expelled from the course without warning.\n"
   ]
  },
  {
   "cell_type": "markdown",
   "metadata": {},
   "source": [
    "### Implement multiple linear regression by gradient descent\n",
    "Your implementation should be based on numpy arrays. Your implementation can use functions from the numpy library.\n",
    "\n",
    "Your function should have the signature\n",
    "linear_regression_gd (X,y,learning_rate) and should return a tuple (mean_squared_error_of_solution, [list_of_optimum_parameters])\n",
    "Here, X is a numpy array with the values of the explanatory variables, and y is an array with the dependent variable\n",
    "\n"
   ]
  },
  {
   "cell_type": "code",
   "execution_count": 33,
   "metadata": {},
   "outputs": [],
   "source": [
    "import numpy as np\n",
    "\n",
    "# Values for X and y from https://www.crashkurs-statistik.de/multiple-lineare-regression/ so we can check if calculations are correct\n",
    "# We also added a row of 1s to X to get the bias term\n",
    "y = np.array([47.1, 46.8, 49.3, 53.2, 47.7, 49.0, 50.6, 47.1, 51.7, 47.8])\n",
    "X = np.array([[1, 1, 1, 1, 1, 1, 1, 1, 1, 1],\n",
    "             [156.3, 158.9, 160.8, 179.6, 156.6, 165.1, 165.9, 156.7, 167.8, 160.8], \n",
    "             [62, 52, 83, 69, 74, 52, 77, 65, 79, 51], \n",
    "             [24, 34, 26, 51, 43, 33, 22, 21, 19, 34]])\n"
   ]
  },
  {
   "cell_type": "code",
   "execution_count": 34,
   "metadata": {},
   "outputs": [
    {
     "name": "stdout",
     "output_type": "stream",
     "text": [
      "[ 0.66299483  0.27856669  0.05510842 -0.02139347]\n"
     ]
    },
    {
     "name": "stderr",
     "output_type": "stream",
     "text": [
      "/usr/local/anaconda3/lib/python3.7/site-packages/ipykernel_launcher.py:7: FutureWarning: `rcond` parameter will change to the default of machine precision times ``max(M, N)`` where M and N are the input matrix dimensions.\n",
      "To use the future default and silence this warning we advise to pass `rcond=None`, to keep using the old, explicitly pass `rcond=-1`.\n",
      "  import sys\n"
     ]
    }
   ],
   "source": [
    "\"\"\"\n",
    "Following function inspired by:\n",
    "https://stackoverflow.com/questions/11479064/multiple-linear-regression-in-python/33381686\n",
    "\"\"\"\n",
    "\n",
    "X = X.T\n",
    "linreg = np.linalg.lstsq(X,y)[0]\n",
    "print(linreg)"
   ]
  },
  {
   "cell_type": "code",
   "execution_count": 70,
   "metadata": {},
   "outputs": [
    {
     "ename": "ValueError",
     "evalue": "operands could not be broadcast together with shapes (4,) (10,) ",
     "output_type": "error",
     "traceback": [
      "\u001b[0;31m---------------------------------------------------------------------------\u001b[0m",
      "\u001b[0;31mValueError\u001b[0m                                Traceback (most recent call last)",
      "\u001b[0;32m<ipython-input-70-058b4e3edcb8>\u001b[0m in \u001b[0;36m<module>\u001b[0;34m()\u001b[0m\n\u001b[1;32m      8\u001b[0m     \u001b[0;31m#return cost\u001b[0m\u001b[0;34m\u001b[0m\u001b[0;34m\u001b[0m\u001b[0m\n\u001b[1;32m      9\u001b[0m \u001b[0;34m\u001b[0m\u001b[0m\n\u001b[0;32m---> 10\u001b[0;31m \u001b[0mcal_cost\u001b[0m\u001b[0;34m(\u001b[0m\u001b[0;36m3\u001b[0m\u001b[0;34m,\u001b[0m\u001b[0mX\u001b[0m\u001b[0;34m,\u001b[0m\u001b[0my\u001b[0m\u001b[0;34m)\u001b[0m\u001b[0;34m\u001b[0m\u001b[0m\n\u001b[0m",
      "\u001b[0;32m<ipython-input-70-058b4e3edcb8>\u001b[0m in \u001b[0;36mcal_cost\u001b[0;34m(theta, X, y)\u001b[0m\n\u001b[1;32m      3\u001b[0m     \u001b[0;32mfor\u001b[0m \u001b[0mi\u001b[0m \u001b[0;32min\u001b[0m \u001b[0mrange\u001b[0m\u001b[0;34m(\u001b[0m\u001b[0mn\u001b[0m\u001b[0;34m)\u001b[0m\u001b[0;34m:\u001b[0m\u001b[0;34m\u001b[0m\u001b[0m\n\u001b[1;32m      4\u001b[0m         \u001b[0mpredictions\u001b[0m \u001b[0;34m=\u001b[0m \u001b[0mnp\u001b[0m\u001b[0;34m.\u001b[0m\u001b[0marray\u001b[0m\u001b[0;34m(\u001b[0m\u001b[0mX\u001b[0m\u001b[0;34m[\u001b[0m\u001b[0mi\u001b[0m\u001b[0;34m]\u001b[0m\u001b[0;34m.\u001b[0m\u001b[0mdot\u001b[0m\u001b[0;34m(\u001b[0m\u001b[0mtheta\u001b[0m\u001b[0;34m)\u001b[0m\u001b[0;34m)\u001b[0m\u001b[0;34m\u001b[0m\u001b[0m\n\u001b[0;32m----> 5\u001b[0;31m     \u001b[0mcost\u001b[0m \u001b[0;34m=\u001b[0m \u001b[0;34m(\u001b[0m\u001b[0;36m1\u001b[0m\u001b[0;34m/\u001b[0m\u001b[0;36m2\u001b[0m\u001b[0;34m*\u001b[0m\u001b[0mn\u001b[0m\u001b[0;34m)\u001b[0m \u001b[0;34m*\u001b[0m \u001b[0mnp\u001b[0m\u001b[0;34m.\u001b[0m\u001b[0msum\u001b[0m\u001b[0;34m(\u001b[0m\u001b[0mnp\u001b[0m\u001b[0;34m.\u001b[0m\u001b[0msquare\u001b[0m\u001b[0;34m(\u001b[0m\u001b[0mpredictions\u001b[0m\u001b[0;34m-\u001b[0m\u001b[0my\u001b[0m\u001b[0;34m)\u001b[0m\u001b[0;34m)\u001b[0m\u001b[0;34m\u001b[0m\u001b[0m\n\u001b[0m\u001b[1;32m      6\u001b[0m     \u001b[0mprint\u001b[0m\u001b[0;34m(\u001b[0m\u001b[0;34m(\u001b[0m\u001b[0mpredictions\u001b[0m\u001b[0;34m)\u001b[0m\u001b[0;34m)\u001b[0m\u001b[0;34m\u001b[0m\u001b[0m\n\u001b[1;32m      7\u001b[0m     \u001b[0mprint\u001b[0m\u001b[0;34m(\u001b[0m\u001b[0mlen\u001b[0m\u001b[0;34m(\u001b[0m\u001b[0mX\u001b[0m\u001b[0;34m)\u001b[0m\u001b[0;34m)\u001b[0m\u001b[0;34m\u001b[0m\u001b[0m\n",
      "\u001b[0;31mValueError\u001b[0m: operands could not be broadcast together with shapes (4,) (10,) "
     ]
    }
   ],
   "source": [
    "def cal_cost(theta,X,y):\n",
    "    n = len(y)\n",
    "    for i in range(n):\n",
    "        predictions = np.array(X[i].dot(theta))\n",
    "    cost = (1/2*n) * np.sum(np.square(predictions-y))\n",
    "    print((predictions))\n",
    "    print(len(X))\n",
    "    #return cost\n",
    "\n",
    "cal_cost(3,X,y)"
   ]
  },
  {
   "cell_type": "code",
   "execution_count": 44,
   "metadata": {},
   "outputs": [],
   "source": [
    "def gradient_descent(X,y,theta,learning_rate=0.01,iterations=100):\n",
    "    m = len(y)\n",
    "    cost_history = np.zeros(iterations) # setting up empty array for cost\n",
    "    theta_history = np.zeros ((iterations,2))\n",
    "    for it in range(iterations):\n",
    "        \n",
    "        prediction = np.dot(X,theta)\n",
    "        \n",
    "        theta = theta -(1/m)*learning_rate*(X.T.dot((prediction-y)))\n",
    "        theta_history[it,:]=theta.T\n",
    "        cost_history[it] = cal_cost(theta,X,y)\n",
    "        \n",
    "    return theta, cost_history, theta_history"
   ]
  },
  {
   "cell_type": "code",
   "execution_count": 42,
   "metadata": {},
   "outputs": [
    {
     "ename": "ValueError",
     "evalue": "shapes (10,5) and (2,1) not aligned: 5 (dim 1) != 2 (dim 0)",
     "output_type": "error",
     "traceback": [
      "\u001b[0;31m---------------------------------------------------------------------------\u001b[0m",
      "\u001b[0;31mValueError\u001b[0m                                Traceback (most recent call last)",
      "\u001b[0;32m<ipython-input-42-9f71bf727bc3>\u001b[0m in \u001b[0;36m<module>\u001b[0;34m()\u001b[0m\n\u001b[1;32m      5\u001b[0m \u001b[0;34m\u001b[0m\u001b[0m\n\u001b[1;32m      6\u001b[0m \u001b[0mX_b\u001b[0m \u001b[0;34m=\u001b[0m \u001b[0mnp\u001b[0m\u001b[0;34m.\u001b[0m\u001b[0mc_\u001b[0m\u001b[0;34m[\u001b[0m\u001b[0mnp\u001b[0m\u001b[0;34m.\u001b[0m\u001b[0mones\u001b[0m\u001b[0;34m(\u001b[0m\u001b[0;34m(\u001b[0m\u001b[0mlen\u001b[0m\u001b[0;34m(\u001b[0m\u001b[0mX\u001b[0m\u001b[0;34m)\u001b[0m\u001b[0;34m,\u001b[0m\u001b[0;36m1\u001b[0m\u001b[0;34m)\u001b[0m\u001b[0;34m)\u001b[0m\u001b[0;34m,\u001b[0m\u001b[0mX\u001b[0m\u001b[0;34m]\u001b[0m\u001b[0;34m\u001b[0m\u001b[0m\n\u001b[0;32m----> 7\u001b[0;31m \u001b[0mtheta\u001b[0m\u001b[0;34m,\u001b[0m \u001b[0mcost_history\u001b[0m\u001b[0;34m,\u001b[0m \u001b[0mtheta_history\u001b[0m \u001b[0;34m=\u001b[0m \u001b[0mgradient_descent\u001b[0m\u001b[0;34m(\u001b[0m\u001b[0mX_b\u001b[0m\u001b[0;34m,\u001b[0m\u001b[0my\u001b[0m\u001b[0;34m,\u001b[0m\u001b[0mtheta\u001b[0m\u001b[0;34m,\u001b[0m\u001b[0mlr\u001b[0m\u001b[0;34m,\u001b[0m\u001b[0mn_iter\u001b[0m\u001b[0;34m)\u001b[0m\u001b[0;34m\u001b[0m\u001b[0m\n\u001b[0m\u001b[1;32m      8\u001b[0m \u001b[0;34m\u001b[0m\u001b[0m\n\u001b[1;32m      9\u001b[0m \u001b[0mprint\u001b[0m\u001b[0;34m(\u001b[0m\u001b[0;34m'Theta0:         {:0.3f},\\nTheta1:            {:0.3f}'\u001b[0m\u001b[0;34m.\u001b[0m\u001b[0mformat\u001b[0m\u001b[0;34m(\u001b[0m\u001b[0mtheta\u001b[0m\u001b[0;34m[\u001b[0m\u001b[0;36m0\u001b[0m\u001b[0;34m]\u001b[0m\u001b[0;34m[\u001b[0m\u001b[0;36m0\u001b[0m\u001b[0;34m]\u001b[0m\u001b[0;34m,\u001b[0m\u001b[0mtheta\u001b[0m\u001b[0;34m[\u001b[0m\u001b[0;36m1\u001b[0m\u001b[0;34m]\u001b[0m\u001b[0;34m[\u001b[0m\u001b[0;36m0\u001b[0m\u001b[0;34m]\u001b[0m\u001b[0;34m)\u001b[0m\u001b[0;34m)\u001b[0m\u001b[0;34m\u001b[0m\u001b[0m\n",
      "\u001b[0;32m<ipython-input-41-2d124bea7cf6>\u001b[0m in \u001b[0;36mgradient_descent\u001b[0;34m(X, y, theta, learning_rate, iterations)\u001b[0m\n\u001b[1;32m      5\u001b[0m     \u001b[0;32mfor\u001b[0m \u001b[0mit\u001b[0m \u001b[0;32min\u001b[0m \u001b[0mrange\u001b[0m\u001b[0;34m(\u001b[0m\u001b[0miterations\u001b[0m\u001b[0;34m)\u001b[0m\u001b[0;34m:\u001b[0m\u001b[0;34m\u001b[0m\u001b[0m\n\u001b[1;32m      6\u001b[0m \u001b[0;34m\u001b[0m\u001b[0m\n\u001b[0;32m----> 7\u001b[0;31m         \u001b[0mprediction\u001b[0m \u001b[0;34m=\u001b[0m \u001b[0mnp\u001b[0m\u001b[0;34m.\u001b[0m\u001b[0mdot\u001b[0m\u001b[0;34m(\u001b[0m\u001b[0mX\u001b[0m\u001b[0;34m,\u001b[0m\u001b[0mtheta\u001b[0m\u001b[0;34m)\u001b[0m\u001b[0;34m\u001b[0m\u001b[0m\n\u001b[0m\u001b[1;32m      8\u001b[0m \u001b[0;34m\u001b[0m\u001b[0m\n\u001b[1;32m      9\u001b[0m         \u001b[0mtheta\u001b[0m \u001b[0;34m=\u001b[0m \u001b[0mtheta\u001b[0m \u001b[0;34m-\u001b[0m\u001b[0;34m(\u001b[0m\u001b[0;36m1\u001b[0m\u001b[0;34m/\u001b[0m\u001b[0mm\u001b[0m\u001b[0;34m)\u001b[0m\u001b[0;34m*\u001b[0m\u001b[0mlearning_rate\u001b[0m\u001b[0;34m*\u001b[0m\u001b[0;34m(\u001b[0m\u001b[0mX\u001b[0m\u001b[0;34m.\u001b[0m\u001b[0mT\u001b[0m\u001b[0;34m.\u001b[0m\u001b[0mdot\u001b[0m\u001b[0;34m(\u001b[0m\u001b[0;34m(\u001b[0m\u001b[0mprediction\u001b[0m\u001b[0;34m-\u001b[0m\u001b[0my\u001b[0m\u001b[0;34m)\u001b[0m\u001b[0;34m)\u001b[0m\u001b[0;34m)\u001b[0m\u001b[0;34m\u001b[0m\u001b[0m\n",
      "\u001b[0;31mValueError\u001b[0m: shapes (10,5) and (2,1) not aligned: 5 (dim 1) != 2 (dim 0)"
     ]
    }
   ],
   "source": [
    "lr = 0.01\n",
    "n_iter = 1000\n",
    "\n",
    "theta = np.random.randn(2,1)\n",
    "\n",
    "X_b = np.c_[np.ones((len(X),1)),X]\n",
    "theta, cost_history, theta_history = gradient_descent(X_b,y,theta,lr,n_iter)\n",
    "\n",
    "print('Theta0:         {:0.3f},\\nTheta1:            {:0.3f}'.format(theta[0][0],theta[1][0]))\n",
    "print('Final cost/MSE: {:0.3f}'.format(cost_history[-1]))"
   ]
  },
  {
   "cell_type": "markdown",
   "metadata": {},
   "source": [
    "### Extend your previous code to implement Stochastic Gradient Descent\n",
    "Your function should have the signature\n",
    "linear_regression_sgd (X,y,learning_rate, batch_size)"
   ]
  },
  {
   "cell_type": "code",
   "execution_count": null,
   "metadata": {},
   "outputs": [],
   "source": []
  },
  {
   "cell_type": "markdown",
   "metadata": {},
   "source": [
    "### Load the quality of Government Dataset \n",
    "from here: https://www.qogdata.pol.gu.se/data/qog_bas_cs_jan18.csv.\n",
    "The data is described here\n",
    "load it into a pandas dataframe and select the following columns:\n",
    "\"cname\",\"wdi_lifexp\",\"wdi_popden\",\"gle_cgdpc\",\"bti_acp\", \"bti_pdi\", \"fh_pair\", \"al_ethnic\",\"al_language\",\"al_religion\",\"bti_aar\",\"vdem_gender\",\"bti_ci\",\"bti_foe\",\"wdi_araland\", \"wdi_forest\"\n"
   ]
  },
  {
   "cell_type": "code",
   "execution_count": 14,
   "metadata": {},
   "outputs": [
    {
     "data": {
      "text/html": [
       "<div>\n",
       "<style scoped>\n",
       "    .dataframe tbody tr th:only-of-type {\n",
       "        vertical-align: middle;\n",
       "    }\n",
       "\n",
       "    .dataframe tbody tr th {\n",
       "        vertical-align: top;\n",
       "    }\n",
       "\n",
       "    .dataframe thead th {\n",
       "        text-align: right;\n",
       "    }\n",
       "</style>\n",
       "<table border=\"1\" class=\"dataframe\">\n",
       "  <thead>\n",
       "    <tr style=\"text-align: right;\">\n",
       "      <th></th>\n",
       "      <th>cname</th>\n",
       "      <th>wdi_lifexp</th>\n",
       "      <th>wdi_popden</th>\n",
       "      <th>gle_cgdpc</th>\n",
       "      <th>bti_acp</th>\n",
       "      <th>bti_pdi</th>\n",
       "      <th>fh_pair</th>\n",
       "      <th>al_ethnic</th>\n",
       "      <th>al_language</th>\n",
       "      <th>al_religion</th>\n",
       "      <th>bti_aar</th>\n",
       "      <th>vdem_gender</th>\n",
       "      <th>bti_ci</th>\n",
       "      <th>bti_foe</th>\n",
       "      <th>wdi_araland</th>\n",
       "      <th>wdi_forest</th>\n",
       "    </tr>\n",
       "  </thead>\n",
       "  <tbody>\n",
       "    <tr>\n",
       "      <th>0</th>\n",
       "      <td>Afghanistan</td>\n",
       "      <td>62.902683</td>\n",
       "      <td>50.176178</td>\n",
       "      <td>1282.6400</td>\n",
       "      <td>3.0</td>\n",
       "      <td>3.0</td>\n",
       "      <td>2</td>\n",
       "      <td>0.769345</td>\n",
       "      <td>0.614146</td>\n",
       "      <td>0.271684</td>\n",
       "      <td>4.0</td>\n",
       "      <td>0.530792</td>\n",
       "      <td>9.0</td>\n",
       "      <td>4.0</td>\n",
       "      <td>11.903011</td>\n",
       "      <td>2.067825</td>\n",
       "    </tr>\n",
       "    <tr>\n",
       "      <th>1</th>\n",
       "      <td>Albania</td>\n",
       "      <td>77.998390</td>\n",
       "      <td>105.441750</td>\n",
       "      <td>8516.7002</td>\n",
       "      <td>5.0</td>\n",
       "      <td>6.0</td>\n",
       "      <td>9</td>\n",
       "      <td>0.220426</td>\n",
       "      <td>0.039925</td>\n",
       "      <td>0.471852</td>\n",
       "      <td>8.0</td>\n",
       "      <td>0.828077</td>\n",
       "      <td>3.0</td>\n",
       "      <td>7.0</td>\n",
       "      <td>22.467154</td>\n",
       "      <td>28.191971</td>\n",
       "    </tr>\n",
       "    <tr>\n",
       "      <th>2</th>\n",
       "      <td>Algeria</td>\n",
       "      <td>75.635025</td>\n",
       "      <td>16.422152</td>\n",
       "      <td>5402.1699</td>\n",
       "      <td>5.0</td>\n",
       "      <td>3.0</td>\n",
       "      <td>7</td>\n",
       "      <td>0.339400</td>\n",
       "      <td>0.442662</td>\n",
       "      <td>0.009128</td>\n",
       "      <td>5.0</td>\n",
       "      <td>0.770516</td>\n",
       "      <td>7.0</td>\n",
       "      <td>6.0</td>\n",
       "      <td>3.136109</td>\n",
       "      <td>0.818057</td>\n",
       "    </tr>\n",
       "    <tr>\n",
       "      <th>3</th>\n",
       "      <td>Andorra</td>\n",
       "      <td>NaN</td>\n",
       "      <td>168.559570</td>\n",
       "      <td>32367.3300</td>\n",
       "      <td>NaN</td>\n",
       "      <td>NaN</td>\n",
       "      <td>15</td>\n",
       "      <td>0.713946</td>\n",
       "      <td>0.684785</td>\n",
       "      <td>0.232569</td>\n",
       "      <td>NaN</td>\n",
       "      <td>NaN</td>\n",
       "      <td>NaN</td>\n",
       "      <td>NaN</td>\n",
       "      <td>5.957447</td>\n",
       "      <td>34.042553</td>\n",
       "    </tr>\n",
       "    <tr>\n",
       "      <th>4</th>\n",
       "      <td>Angola</td>\n",
       "      <td>60.806732</td>\n",
       "      <td>21.593380</td>\n",
       "      <td>3771.2000</td>\n",
       "      <td>2.0</td>\n",
       "      <td>3.0</td>\n",
       "      <td>3</td>\n",
       "      <td>0.786720</td>\n",
       "      <td>0.787019</td>\n",
       "      <td>0.627644</td>\n",
       "      <td>3.0</td>\n",
       "      <td>0.680371</td>\n",
       "      <td>4.0</td>\n",
       "      <td>4.0</td>\n",
       "      <td>3.930376</td>\n",
       "      <td>46.507420</td>\n",
       "    </tr>\n",
       "  </tbody>\n",
       "</table>\n",
       "</div>"
      ],
      "text/plain": [
       "         cname  wdi_lifexp  wdi_popden   gle_cgdpc  bti_acp  bti_pdi  fh_pair  \\\n",
       "0  Afghanistan   62.902683   50.176178   1282.6400      3.0      3.0        2   \n",
       "1      Albania   77.998390  105.441750   8516.7002      5.0      6.0        9   \n",
       "2      Algeria   75.635025   16.422152   5402.1699      5.0      3.0        7   \n",
       "3      Andorra         NaN  168.559570  32367.3300      NaN      NaN       15   \n",
       "4       Angola   60.806732   21.593380   3771.2000      2.0      3.0        3   \n",
       "\n",
       "   al_ethnic  al_language  al_religion  bti_aar  vdem_gender  bti_ci  bti_foe  \\\n",
       "0   0.769345     0.614146     0.271684      4.0     0.530792     9.0      4.0   \n",
       "1   0.220426     0.039925     0.471852      8.0     0.828077     3.0      7.0   \n",
       "2   0.339400     0.442662     0.009128      5.0     0.770516     7.0      6.0   \n",
       "3   0.713946     0.684785     0.232569      NaN          NaN     NaN      NaN   \n",
       "4   0.786720     0.787019     0.627644      3.0     0.680371     4.0      4.0   \n",
       "\n",
       "   wdi_araland  wdi_forest  \n",
       "0    11.903011    2.067825  \n",
       "1    22.467154   28.191971  \n",
       "2     3.136109    0.818057  \n",
       "3     5.957447   34.042553  \n",
       "4     3.930376   46.507420  "
      ]
     },
     "execution_count": 14,
     "metadata": {},
     "output_type": "execute_result"
    }
   ],
   "source": [
    "import pandas as pd\n",
    "df = pd.read_csv(\"goq.csv\", na_values=\"\")\n",
    "\n",
    "# select specified columns\n",
    "col = df[[\"cname\",\"wdi_lifexp\",\"wdi_popden\",\"gle_cgdpc\",\"bti_acp\", \"bti_pdi\", \"fh_pair\", \"al_ethnic\",\"al_language\",\"al_religion\",\"bti_aar\",\"vdem_gender\",\"bti_ci\",\"bti_foe\",\"wdi_araland\", \"wdi_forest\"]]\n",
    "col.head()"
   ]
  },
  {
   "cell_type": "markdown",
   "metadata": {},
   "source": [
    "### Compute the correlation of all other variables with the life expectancy (wdi_lifexp)"
   ]
  },
  {
   "cell_type": "code",
   "execution_count": 25,
   "metadata": {},
   "outputs": [
    {
     "data": {
      "text/plain": [
       "wdi_lifexp     1.000000\n",
       "wdi_popden     0.171756\n",
       "gle_cgdpc      0.632859\n",
       "bti_acp        0.449749\n",
       "bti_pdi        0.181737\n",
       "fh_pair        0.666925\n",
       "al_ethnic     -0.555538\n",
       "al_language   -0.550292\n",
       "al_religion   -0.170274\n",
       "bti_aar        0.136264\n",
       "vdem_gender    0.431190\n",
       "bti_ci        -0.463416\n",
       "bti_foe        0.130552\n",
       "wdi_araland    0.037243\n",
       "wdi_forest     0.026779\n",
       "Name: wdi_lifexp, dtype: float64"
      ]
     },
     "execution_count": 25,
     "metadata": {},
     "output_type": "execute_result"
    }
   ],
   "source": [
    "col[col.columns[1:]].corr(\"pearson\")[\"wdi_lifexp\"]\n",
    "#data[data.columns[1:]].corr()['special_col'][:-1]"
   ]
  },
  {
   "cell_type": "markdown",
   "metadata": {},
   "source": [
    "### Apply your own implementations  (GD and SGD)\n",
    "To model the life expectancy from the population density and GDP per capita.\n",
    "Compare the results with what you get from scikit learn OR statsmodel libraries.\n",
    "\n",
    "For this subtask, just remove all countries with missing values in any of these three variables."
   ]
  },
  {
   "cell_type": "code",
   "execution_count": null,
   "metadata": {},
   "outputs": [],
   "source": []
  },
  {
   "cell_type": "markdown",
   "metadata": {},
   "source": [
    "### Build regression models to model the life expectancy (wdi_lifexp) in this dataset\n",
    "from all other mentioned variables.\n",
    "You can use scikit learn and/or statsmodels libraries for this task.\n",
    "Standardize variables and fill in missing values appropriately.\n",
    "Compare linear regression, Ridge regression and Lasso using k-fold-cross validation\n",
    "Test several parameters for the regularized regressions.\n"
   ]
  },
  {
   "cell_type": "code",
   "execution_count": null,
   "metadata": {},
   "outputs": [],
   "source": []
  },
  {
   "cell_type": "markdown",
   "metadata": {},
   "source": [
    "### Implement Forward and Backward Selection algorithms\n",
    "And apply it to the (given subset of variables of the) Quality of Government dataset.\n",
    "Compare the results of Forward and Backward selection with each other.\n"
   ]
  },
  {
   "cell_type": "code",
   "execution_count": null,
   "metadata": {},
   "outputs": [],
   "source": []
  }
 ],
 "metadata": {
  "kernelspec": {
   "display_name": "Python 3",
   "language": "python",
   "name": "python3"
  },
  "language_info": {
   "codemirror_mode": {
    "name": "ipython",
    "version": 3
   },
   "file_extension": ".py",
   "mimetype": "text/x-python",
   "name": "python",
   "nbconvert_exporter": "python",
   "pygments_lexer": "ipython3",
   "version": "3.7.0"
  }
 },
 "nbformat": 4,
 "nbformat_minor": 2
}
